{
 "cells": [
  {
   "cell_type": "markdown",
   "metadata": {},
   "source": [
    "# Alpha Beta Pruning Algorithm"
   ]
  },
  {
   "cell_type": "code",
   "execution_count": 1,
   "metadata": {},
   "outputs": [
    {
     "name": "stdout",
     "output_type": "stream",
     "text": [
      "Optimal value: 12\n"
     ]
    }
   ],
   "source": [
    "def Alpha_Beta_prune(ArR_, depth, alpha, beta, maximizing):\n",
    "    if depth == 0 or len(ArR_.children) == 0:\n",
    "        return ArR_.value\n",
    "    \n",
    "    if maximizing:\n",
    "        value = float('-inf')\n",
    "        for child in ArR_.children:\n",
    "            value = max(value, Alpha_Beta_prune(child, depth - 1, alpha, beta, False))\n",
    "            alpha = max(alpha, value)\n",
    "            if beta <= alpha:\n",
    "                break\n",
    "        return value\n",
    "    else:\n",
    "        value = float('inf')\n",
    "        for child in ArR_.children:\n",
    "            value = min(value, Alpha_Beta_prune(child, depth - 1, alpha, beta, True))\n",
    "            beta = min(beta, value)\n",
    "            if beta <= alpha:\n",
    "                break\n",
    "        return value\n",
    "\n",
    "class Node:\n",
    "    def __init__(self, value):\n",
    "        self.value = value\n",
    "        self.children = []\n",
    "\n",
    "\n",
    "root = Node(None)\n",
    "root.children = [Node(2), Node(4), Node(6), Node(8), Node(1), Node(2), Node(10), Node(12)]\n",
    "depth = 3\n",
    "result = Alpha_Beta_prune(root, depth, float('-inf'), float('inf'), True)\n",
    "print(\"Optimal value:\", result)\n"
   ]
  }
 ],
 "metadata": {
  "kernelspec": {
   "display_name": "Python 3",
   "language": "python",
   "name": "python3"
  },
  "language_info": {
   "codemirror_mode": {
    "name": "ipython",
    "version": 3
   },
   "file_extension": ".py",
   "mimetype": "text/x-python",
   "name": "python",
   "nbconvert_exporter": "python",
   "pygments_lexer": "ipython3",
   "version": "3.11.5"
  }
 },
 "nbformat": 4,
 "nbformat_minor": 2
}
