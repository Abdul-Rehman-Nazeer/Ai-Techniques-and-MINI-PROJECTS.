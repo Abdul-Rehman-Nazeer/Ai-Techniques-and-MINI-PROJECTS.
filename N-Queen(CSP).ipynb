{
 "cells": [
  {
   "cell_type": "code",
   "execution_count": 1,
   "metadata": {},
   "outputs": [
    {
     "name": "stdout",
     "output_type": "stream",
     "text": [
      "[{0: 2, 1: 0, 2: 3, 3: 1}, {0: 1, 1: 3, 2: 0, 3: 2}]\n"
     ]
    }
   ],
   "source": [
    "from constraint import Problem\n",
    "\n",
    "def check_same_row(row1, row2):\n",
    "    return row1 != row2\n",
    "\n",
    "def check_diag(col1, row1, col2, row2):\n",
    "    return abs(row1 - row2) != abs(col1 - col2)\n",
    "\n",
    "def n_queens_csp(N):\n",
    "    p = Problem()\n",
    "    cols = range(N)\n",
    "    rows = range(N)\n",
    "\n",
    "    for col in cols:\n",
    "        p.addVariable(col, rows)\n",
    "\n",
    "    for col1 in cols:\n",
    "        for col2 in cols:\n",
    "            if col1 < col2:\n",
    "                p.addConstraint(check_same_row, (col1, col2))\n",
    "                p.addConstraint(lambda row1, row2, col1=col1, col2=col2: check_diag(col1, row1, col2, row2), (col1, col2))\n",
    "\n",
    "    solutions = p.getSolutions()\n",
    "    return solutions\n",
    "\n",
    "# Example usage for N=4\n",
    "solutions = n_queens_csp(4)\n",
    "print(solutions)\n"
   ]
  },
  {
   "cell_type": "markdown",
   "metadata": {},
   "source": [
    "### output shows the placement of the queens on a chessboard."
   ]
  }
 ],
 "metadata": {
  "kernelspec": {
   "display_name": "Python 3",
   "language": "python",
   "name": "python3"
  },
  "language_info": {
   "codemirror_mode": {
    "name": "ipython",
    "version": 3
   },
   "file_extension": ".py",
   "mimetype": "text/x-python",
   "name": "python",
   "nbconvert_exporter": "python",
   "pygments_lexer": "ipython3",
   "version": "3.11.5"
  }
 },
 "nbformat": 4,
 "nbformat_minor": 2
}
