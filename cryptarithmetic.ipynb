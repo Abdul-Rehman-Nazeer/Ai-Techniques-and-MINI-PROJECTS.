{
 "cells": [
  {
   "cell_type": "code",
   "execution_count": 1,
   "metadata": {},
   "outputs": [
    {
     "name": "stdout",
     "output_type": "stream",
     "text": [
      "Solution found:\n",
      "B: 2\n",
      "A: 4\n",
      "S: 6\n",
      "E: 1\n",
      "L: 5\n",
      "G: 0\n",
      "M: 9\n"
     ]
    }
   ],
   "source": [
    "from itertools import permutations\n",
    "\n",
    "def ArR_solve_cryptarithmetic():\n",
    "    letters = ['B', 'A', 'S', 'E', 'L', 'G', 'M']\n",
    "    digit_permutations = permutations(range(10), len(letters))\n",
    "    \n",
    "    for perm in digit_permutations:\n",
    "        digit_mapping = dict(zip(letters, perm))\n",
    "        if digit_mapping['B'] == 0 or digit_mapping['M'] == 0:\n",
    "            continue\n",
    "\n",
    "        base = digit_mapping['B'] * 1000 + digit_mapping['A'] * 100 + digit_mapping['S'] * 10 + digit_mapping['E']\n",
    "        ball = digit_mapping['B'] * 1000 + digit_mapping['A'] * 100 + digit_mapping['L'] * 10 + digit_mapping['L']\n",
    "        games = digit_mapping['G'] * 10000 + digit_mapping['A'] * 1000 + digit_mapping['M'] * 100 + digit_mapping['E'] * 10 + digit_mapping['S']\n",
    "\n",
    "        if base + ball == games:\n",
    "            return digit_mapping\n",
    "\n",
    "    return None\n",
    "\n",
    "\n",
    "solution = ArR_solve_cryptarithmetic()\n",
    "if solution:\n",
    "    print(\"Solution found:\")\n",
    "    for letter, digit in solution.items():\n",
    "        print(f\"{letter}: {digit}\")\n",
    "else:\n",
    "    print(\"No solution found.\")\n",
    "\n"
   ]
  }
 ],
 "metadata": {
  "kernelspec": {
   "display_name": "Python 3",
   "language": "python",
   "name": "python3"
  },
  "language_info": {
   "codemirror_mode": {
    "name": "ipython",
    "version": 3
   },
   "file_extension": ".py",
   "mimetype": "text/x-python",
   "name": "python",
   "nbconvert_exporter": "python",
   "pygments_lexer": "ipython3",
   "version": "3.11.5"
  }
 },
 "nbformat": 4,
 "nbformat_minor": 2
}
