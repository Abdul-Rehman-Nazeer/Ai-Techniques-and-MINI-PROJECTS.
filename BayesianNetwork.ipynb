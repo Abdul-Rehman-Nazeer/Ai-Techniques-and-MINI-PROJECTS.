{
 "cells": [
  {
   "cell_type": "markdown",
   "metadata": {},
   "source": [
    "# Bayesian Network"
   ]
  },
  {
   "cell_type": "code",
   "execution_count": 2,
   "metadata": {},
   "outputs": [
    {
     "name": "stderr",
     "output_type": "stream",
     "text": [
      "WARNING:pgmpy:BayesianModel has been renamed to BayesianNetwork. Please use BayesianNetwork class, BayesianModel will be removed in future.\n",
      "WARNING:pgmpy:BayesianModel has been renamed to BayesianNetwork. Please use BayesianNetwork class, BayesianModel will be removed in future.\n",
      "WARNING:pgmpy:BayesianModel has been renamed to BayesianNetwork. Please use BayesianNetwork class, BayesianModel will be removed in future.\n",
      "WARNING:pgmpy:BayesianModel has been renamed to BayesianNetwork. Please use BayesianNetwork class, BayesianModel will be removed in future.\n",
      "WARNING:pgmpy:BayesianModel has been renamed to BayesianNetwork. Please use BayesianNetwork class, BayesianModel will be removed in future.\n",
      "WARNING:pgmpy:BayesianModel has been renamed to BayesianNetwork. Please use BayesianNetwork class, BayesianModel will be removed in future.\n",
      "WARNING:pgmpy:BayesianModel has been renamed to BayesianNetwork. Please use BayesianNetwork class, BayesianModel will be removed in future.\n"
     ]
    },
    {
     "name": "stdout",
     "output_type": "stream",
     "text": [
      "Probability of poor performance given medium study time and tutoring: 0.2\n",
      "Probability distribution of study time and tutoring given good performance:\n",
      " +-----------+--------+------------+\n",
      "| S         | T      |   phi(S,T) |\n",
      "+===========+========+============+\n",
      "| S(Low)    | T(Yes) |     0.1356 |\n",
      "+-----------+--------+------------+\n",
      "| S(Low)    | T(No)  |     0.0291 |\n",
      "+-----------+--------+------------+\n",
      "| S(Medium) | T(Yes) |     0.1525 |\n",
      "+-----------+--------+------------+\n",
      "| S(Medium) | T(No)  |     0.0654 |\n",
      "+-----------+--------+------------+\n",
      "| S(High)   | T(Yes) |     0.5085 |\n",
      "+-----------+--------+------------+\n",
      "| S(High)   | T(No)  |     0.1090 |\n",
      "+-----------+--------+------------+\n",
      "Probability distribution of study time and tutoring given average performance:\n",
      " +-----------+--------+------------+\n",
      "| S         | T      |   phi(S,T) |\n",
      "+===========+========+============+\n",
      "| S(Low)    | T(Yes) |     0.1148 |\n",
      "+-----------+--------+------------+\n",
      "| S(Low)    | T(No)  |     0.0328 |\n",
      "+-----------+--------+------------+\n",
      "| S(Medium) | T(Yes) |     0.2869 |\n",
      "+-----------+--------+------------+\n",
      "| S(Medium) | T(No)  |     0.0738 |\n",
      "+-----------+--------+------------+\n",
      "| S(High)   | T(Yes) |     0.2869 |\n",
      "+-----------+--------+------------+\n",
      "| S(High)   | T(No)  |     0.2049 |\n",
      "+-----------+--------+------------+\n"
     ]
    }
   ],
   "source": [
    "#q5\n",
    "\n",
    "from math import gcd\n",
    "from pgmpy.models import BayesianModel\n",
    "from pgmpy.factors.discrete import TabularCPD\n",
    "from pgmpy.inference import VariableElimination\n",
    "\n",
    "model = BayesianModel([('S', 'P'), ('T', 'P')])  # StudyTime (S), Tutoring (T), Performance (P)\n",
    "\n",
    "cpd_s = TabularCPD(variable='S', variable_card=3,\n",
    "                    values=[[0.2], [0.3], [0.5]],\n",
    "                    state_names={'S': ['Low', 'Medium', 'High']})\n",
    "\n",
    "cpd_t = TabularCPD(variable='T', variable_card=2,\n",
    "                    values=[[0.7], [0.3]],\n",
    "                    state_names={'T': ['Yes', 'No']})\n",
    "\n",
    "cpd_p = TabularCPD(variable='P', variable_card=3,\n",
    "                    values=[[0.3, 0.6, 0.2, 0.4, 0.1, 0.2],\n",
    "                            [0.3, 0.2, 0.5, 0.3, 0.3, 0.5],\n",
    "                            [0.4, 0.2, 0.3, 0.3, 0.6, 0.3]],\n",
    "                    evidence=['S', 'T'],\n",
    "                    evidence_card=[3, 2],\n",
    "                    state_names={'P': ['Poor', 'Average', 'Good'],\n",
    "                                 'S': ['Low', 'Medium', 'High'],\n",
    "                                 'T': ['Yes', 'No']})\n",
    "\n",
    "model.add_cpds(cpd_s, cpd_t, cpd_p)\n",
    "\n",
    "infer = VariableElimination(model)\n",
    "\n",
    "res_1 = infer.query(variables=['P'], evidence={'S': 'Medium', 'T': 'Yes'})\n",
    "res_2 = infer.query(variables=['S', 'T'], evidence={'P': 'Good'})\n",
    "res_3 = infer.query(variables=['S', 'T'], evidence={'P': 'Average'})\n",
    "\n",
    "print(\"Probability of poor performance given medium study time and tutoring:\", res_1.values[0])\n",
    "print(\"Probability distribution of study time and tutoring given good performance:\\n\", res_2)\n",
    "print(\"Probability distribution of study time and tutoring given average performance:\\n\", res_3)\n"
   ]
  },
  {
   "cell_type": "code",
   "execution_count": null,
   "metadata": {},
   "outputs": [],
   "source": []
  }
 ],
 "metadata": {
  "kernelspec": {
   "display_name": "Python 3",
   "language": "python",
   "name": "python3"
  },
  "language_info": {
   "codemirror_mode": {
    "name": "ipython",
    "version": 3
   },
   "file_extension": ".py",
   "mimetype": "text/x-python",
   "name": "python",
   "nbconvert_exporter": "python",
   "pygments_lexer": "ipython3",
   "version": "3.11.5"
  }
 },
 "nbformat": 4,
 "nbformat_minor": 2
}
