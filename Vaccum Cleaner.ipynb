{
 "cells": [
  {
   "cell_type": "code",
   "execution_count": 15,
   "metadata": {},
   "outputs": [
    {
     "name": "stdout",
     "output_type": "stream",
     "text": [
      "D C C\n",
      "C C C\n",
      "B C D\n",
      "\n",
      "Path taken by the vacuum cleaner:\n",
      "(0, 1) -> (0, 2) -> (0, 1) -> (1, 1) -> (1, 0) -> (1, 1) -> (0, 1) -> (1, 1) -> (2, 1) -> (1, 1) -> (0, 1) -> (0, 2) -> (1, 2) -> (1, 1) -> End\n"
     ]
    }
   ],
   "source": [
    "import random\n",
    "\n",
    "class VacuumCleaner:\n",
    "    def __init__(self, room):\n",
    "        self.room = room\n",
    "        self.rows = len(room)\n",
    "        self.cols = len(room[0])\n",
    "        self.position = self.random_start_position()\n",
    "        self.path = [self.position]\n",
    "\n",
    "    def random_start_position(self):\n",
    "        #Randomly select a start position for the vacuum cleaner.\n",
    "        row = random.randint(0, self.rows - 1)\n",
    "        col = random.randint(0, self.cols - 1)\n",
    "        return (row, col)\n",
    "\n",
    "    def clean_cell(self, position):\n",
    "        #Clean the cell at the given position.\n",
    "        row, col = position\n",
    "        self.room[row][col] = 'C'\n",
    "\n",
    "    def is_dirty(self, position):\n",
    "        #Check if the cell at the given position is dirty.\n",
    "        row, col = position\n",
    "        return self.room[row][col] == 'D'\n",
    "\n",
    "    def surrounding_cells_clean(self, position):\n",
    "        #Check if all surrounding cells of the given position are clean.#\n",
    "        row, col = position\n",
    "        for dr, dc in [(0, 1), (1, 0), (0, -1), (-1, 0)]:\n",
    "            new_row, new_col = row + dr, col + dc\n",
    "            if 0 <= new_row < self.rows and 0 <= new_col < self.cols:\n",
    "                if self.room[new_row][new_col] == 'D':\n",
    "                    return False\n",
    "        return True\n",
    "\n",
    "    def move(self):\n",
    "        #Move the vacuum cleaner to a neighboring cell.#\n",
    "        row, col = self.position\n",
    "        possible_moves = []\n",
    "        for dr, dc in [(0, 1), (1, 0), (0, -1), (-1, 0)]:\n",
    "            new_row, new_col = row + dr, col + dc\n",
    "            if 0 <= new_row < self.rows and 0 <= new_col < self.cols:\n",
    "                possible_moves.append((new_row, new_col))\n",
    "        new_position = random.choice(possible_moves)\n",
    "        self.position = new_position\n",
    "        self.path.append(new_position)\n",
    "\n",
    "    def clean_room(self):\n",
    "        #Clean the room until all surrounding cells are clean.#\n",
    "        while not self.surrounding_cells_clean(self.position):\n",
    "            if self.is_dirty(self.position):\n",
    "                self.clean_cell(self.position)\n",
    "            self.move()\n",
    "\n",
    "    def display_path(self):\n",
    "        #Display the path taken by the vacuum cleaner.#\n",
    "        for row in self.room:\n",
    "            print(\" \".join(row))\n",
    "        print(\"\\nPath taken by the vacuum cleaner:\")\n",
    "        for position in self.path:\n",
    "            row, col = position\n",
    "            print(f\"({row}, {col})\", end=\" -> \")\n",
    "        print(\"End\")\n",
    "\n",
    "\n",
    "# Example room layout (3x3 matrix)\n",
    "room = [\n",
    "    ['D', 'C', 'C'],\n",
    "    ['C', 'D', 'D'],\n",
    "    ['B', 'C', 'D']#B represents BLOCKED CELL\n",
    "]\n",
    "\n",
    "vacuum = VacuumCleaner(room)\n",
    "vacuum.clean_room()\n",
    "vacuum.display_path()\n"
   ]
  },
  {
   "cell_type": "code",
   "execution_count": null,
   "metadata": {},
   "outputs": [],
   "source": []
  },
  {
   "cell_type": "code",
   "execution_count": null,
   "metadata": {},
   "outputs": [],
   "source": []
  }
 ],
 "metadata": {
  "kernelspec": {
   "display_name": "Python 3",
   "language": "python",
   "name": "python3"
  },
  "language_info": {
   "codemirror_mode": {
    "name": "ipython",
    "version": 3
   },
   "file_extension": ".py",
   "mimetype": "text/x-python",
   "name": "python",
   "nbconvert_exporter": "python",
   "pygments_lexer": "ipython3",
   "version": "3.11.5"
  }
 },
 "nbformat": 4,
 "nbformat_minor": 2
}
