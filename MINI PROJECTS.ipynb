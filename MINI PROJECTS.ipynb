{
 "cells": [
  {
   "cell_type": "markdown",
   "metadata": {},
   "source": [
    "BASIC RESTAURANT MANAGEMENT USING OOP IN PYHTON"
   ]
  },
  {
   "cell_type": "code",
   "execution_count": 66,
   "id": "78e701b7-a8b0-48cf-91f7-979487613194",
   "metadata": {},
   "outputs": [
    {
     "name": "stdout",
     "output_type": "stream",
     "text": [
      "Menu:\n",
      "Fish: $15.99\n",
      "BBQ: $18.99\n",
      "Fries: $3.49\n",
      "Booked Tables:\n",
      "Table 1: 4 guests\n",
      "Table 2: 2 guests\n",
      "Customer Orders:\n",
      "Table 1 Order: Fish, BBQ\n",
      "Table 2 Order: Fries\n"
     ]
    }
   ],
   "source": [
    "\n",
    "\n",
    "class Restaurant:\n",
    "    def __init__(self):\n",
    "        self.menu_items = {}\n",
    "        self.booked_tables = {}\n",
    "        self.customer_orders = []\n",
    "\n",
    "        self.menu_items[\"Fish\"] = 15.99\n",
    "        self.menu_items[\"BBQ\"] = 18.99\n",
    "        self.menu_items[\"Fries\"] = 3.49\n",
    "\n",
    "        self.booked_tables[1] = 4\n",
    "        self.booked_tables[2] = 2\n",
    "\n",
    "        self.customer_orders.append((1, [\"Fish\", \"BBQ\"]))\n",
    "        self.customer_orders.append((2, [\"Fries\"]))\n",
    "\n",
    "        print(\"Menu:\")\n",
    "        for item, price in self.menu_items.items():\n",
    "            print(f\"{item}: ${price:.2f}\")\n",
    "\n",
    "        print(\"Booked Tables:\")\n",
    "        for table, guests in self.booked_tables.items():\n",
    "            print(f\"Table {table}: {guests} guests\")\n",
    "\n",
    "        print(\"Customer Orders:\")\n",
    "        for table, order in self.customer_orders:\n",
    "            print(f\"Table {table} Order: {', '.join(order)}\")\n",
    "\n",
    "\n",
    "r= Restaurant()\n"
   ]
  },
  {
   "cell_type": "markdown",
   "metadata": {},
   "source": [
    "BASIC BANK MANAGEMENT SYSTEM USING OOP IN PYTHON"
   ]
  },
  {
   "cell_type": "code",
   "execution_count": 72,
   "id": "0476097e-7cf2-4ec2-90c0-bd6336c8cd9d",
   "metadata": {},
   "outputs": [
    {
     "name": "stdout",
     "output_type": "stream",
     "text": [
      "Enter account number:  1\n",
      "Enter initial balance:  1000\n",
      "Enter date of opening (DD-MM-YYYY):  2-3-2003\n",
      "Enter customer name:  ArR\n"
     ]
    },
    {
     "name": "stdout",
     "output_type": "stream",
     "text": [
      "\n",
      "Options:\n",
      "1. Deposit\n",
      "2. Withdraw\n",
      "3. Check Balance\n",
      "4. Exit\n"
     ]
    },
    {
     "name": "stdout",
     "output_type": "stream",
     "text": [
      "Enter your choice (1/2/3/4):  1\n",
      "Enter deposit amount:  500\n"
     ]
    },
    {
     "name": "stdout",
     "output_type": "stream",
     "text": [
      "Deposited $500.0 into account 1. New balance: $1500.0\n",
      "\n",
      "Options:\n",
      "1. Deposit\n",
      "2. Withdraw\n",
      "3. Check Balance\n",
      "4. Exit\n"
     ]
    },
    {
     "name": "stdout",
     "output_type": "stream",
     "text": [
      "Enter your choice (1/2/3/4):  2\n",
      "Enter withdrawal amount:  1000\n"
     ]
    },
    {
     "name": "stdout",
     "output_type": "stream",
     "text": [
      "Withdrew $1000.0 from account 1. New balance: $500.0\n",
      "\n",
      "Options:\n",
      "1. Deposit\n",
      "2. Withdraw\n",
      "3. Check Balance\n",
      "4. Exit\n"
     ]
    },
    {
     "name": "stdout",
     "output_type": "stream",
     "text": [
      "Enter your choice (1/2/3/4):  3\n"
     ]
    },
    {
     "name": "stdout",
     "output_type": "stream",
     "text": [
      "ArR Your Account Information is as Follows.\n",
      "Account 1 balance: $500.0\n",
      "\n",
      "Options:\n",
      "1. Deposit\n",
      "2. Withdraw\n",
      "3. Check Balance\n",
      "4. Exit\n"
     ]
    },
    {
     "name": "stdout",
     "output_type": "stream",
     "text": [
      "Enter your choice (1/2/3/4):  4\n"
     ]
    },
    {
     "name": "stdout",
     "output_type": "stream",
     "text": [
      "Exiting. Thank you!\n"
     ]
    }
   ],
   "source": [
    "\n",
    "class BankAccount:\n",
    "    def __init__(self, account_number, balance, date_of_opening, customer_name):\n",
    "        self.account_number = account_number\n",
    "        self.balance = balance\n",
    "        self.date_of_opening = date_of_opening\n",
    "        self.customer_name = customer_name\n",
    "\n",
    "    def deposit(self, amount):\n",
    "        if amount > 0:\n",
    "            self.balance += amount\n",
    "            print(f\"Deposited ${amount:} into account {self.account_number}. New balance: ${self.balance:}\")\n",
    "        else:\n",
    "            print(\"Invalid deposit amount. Amount must be greater than zero.\")\n",
    "\n",
    "    def withdraw(self, amount):\n",
    "        if amount > 0 and amount <= self.balance:\n",
    "            self.balance -= amount\n",
    "            print(f\"Withdrew ${amount:} from account {self.account_number}. New balance: ${self.balance:}\")\n",
    "        elif amount <= 0:\n",
    "            print(\"Invalid withdrawal amount. Amount must be greater than zero.\")\n",
    "        else:\n",
    "            print(\"Insufficient balance.\")\n",
    "\n",
    "    def check_balance(self):\n",
    "        print(f\"Account {self.account_number} balance: ${self.balance:}\")\n",
    "\n",
    "account_number = input(\"Enter account number: \")\n",
    "balance = float(input(\"Enter initial balance: \"))\n",
    "date_of_opening = input(\"Enter date of opening (DD-MM-YYYY): \")\n",
    "customer_name = input(\"Enter customer name: \")\n",
    "\n",
    "b = BankAccount(account_number, balance, date_of_opening, customer_name)\n",
    "\n",
    "while True:\n",
    "    print(\"\\nOptions:\")\n",
    "    print(\"1. Deposit\")\n",
    "    print(\"2. Withdraw\")\n",
    "    print(\"3. Check Balance\")\n",
    "    print(\"4. Exit\")\n",
    "    \n",
    "    choice = input(\"Enter your choice (1/2/3/4): \")\n",
    "\n",
    "    if choice == '1':\n",
    "        amount = float(input(\"Enter deposit amount: \"))\n",
    "        b.deposit(amount)\n",
    "    elif choice == '2':\n",
    "        amount = float(input(\"Enter withdrawal amount: \"))\n",
    "        b.withdraw(amount)\n",
    "    elif choice == '3':\n",
    "        print(f\"{b.customer_name} Your Account Information is as Follows.\")\n",
    "        b.check_balance()\n",
    "    elif choice == '4':\n",
    "        print(\"Exiting. Thank you!\")\n",
    "        break\n",
    "    else:\n",
    "        print(\"Invalid choice. Please select a valid option.\")"
   ]
  },
  {
   "cell_type": "code",
   "execution_count": null,
   "id": "774f6fc0-0725-44ec-ba0b-e2f711dfe687",
   "metadata": {},
   "outputs": [],
   "source": []
  }
 ],
 "metadata": {
  "kernelspec": {
   "display_name": "Python 3 (ipykernel)",
   "language": "python",
   "name": "python3"
  },
  "language_info": {
   "codemirror_mode": {
    "name": "ipython",
    "version": 3
   },
   "file_extension": ".py",
   "mimetype": "text/x-python",
   "name": "python",
   "nbconvert_exporter": "python",
   "pygments_lexer": "ipython3",
   "version": "3.11.5"
  }
 },
 "nbformat": 4,
 "nbformat_minor": 5
}
