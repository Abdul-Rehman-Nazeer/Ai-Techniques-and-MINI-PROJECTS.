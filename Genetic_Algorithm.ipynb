{
 "cells": [
  {
   "cell_type": "markdown",
   "metadata": {},
   "source": [
    "# Genetic Algorithm"
   ]
  },
  {
   "cell_type": "code",
   "execution_count": 2,
   "metadata": {},
   "outputs": [
    {
     "name": "stdout",
     "output_type": "stream",
     "text": [
      "Best Individual: Artificial Intelligence Lab\n",
      "Generations: 373\n"
     ]
    }
   ],
   "source": [
    "import random\n",
    "import string\n",
    "\n",
    "TARGET = \"Artificial Intelligence Lab\"\n",
    "POPULATION_SIZE = 70\n",
    "MUTATION_RATE = 0.01\n",
    "\n",
    "def generate_random_string(length):\n",
    "    return ''.join(random.choice(string.ascii_letters + string.digits + string.punctuation + ' ') for _ in range(length))\n",
    "\n",
    "def initialize_population(population_size, target):\n",
    "    return [generate_random_string(len(target)) for _ in range(population_size)]\n",
    "\n",
    "def calculate_fitness(individual, target):\n",
    "    return sum(1 for i in range(len(target)) if individual[i] != target[i])\n",
    "\n",
    "def selection(population, target):\n",
    "    return sorted(population, key=lambda individual: calculate_fitness(individual, target))\n",
    "\n",
    "def crossover(parent1, parent2):\n",
    "    crossover_point = random.randint(0, len(parent1) - 1)\n",
    "    child1 = parent1[:crossover_point] + parent2[crossover_point:]\n",
    "    child2 = parent2[:crossover_point] + parent1[crossover_point:]\n",
    "    return child1, child2\n",
    "\n",
    "def mutation(individual):\n",
    "    mutated_individual = list(individual)\n",
    "    for i in range(len(mutated_individual)):\n",
    "        if random.random() < MUTATION_RATE:\n",
    "            mutated_individual[i] = random.choice(string.ascii_letters + string.digits + string.punctuation + ' ')\n",
    "    return ''.join(mutated_individual)\n",
    "\n",
    "def genetic_algorithm(target, population_size, mutation_rate):\n",
    "    population = initialize_population(population_size, target)\n",
    "    generation = 1\n",
    "    while True:\n",
    "        population = selection(population, target)\n",
    "        if calculate_fitness(population[0], target) == 0:\n",
    "            break\n",
    "        new_population = []\n",
    "        while len(new_population) < population_size:\n",
    "            parent1, parent2 = random.choices(population[:10], k=2)  # Select top 10 individuals as parents\n",
    "            child1, child2 = crossover(parent1, parent2)\n",
    "            child1 = mutation(child1)\n",
    "            child2 = mutation(child2)\n",
    "            new_population.extend([child1, child2])\n",
    "        population = new_population\n",
    "        generation += 1\n",
    "    return population[0], generation\n",
    "\n",
    "best_individual, generations = genetic_algorithm(TARGET, POPULATION_SIZE, MUTATION_RATE)\n",
    "print(\"Best Individual:\", best_individual)\n",
    "print(\"Generations:\", generations)\n"
   ]
  },
  {
   "cell_type": "code",
   "execution_count": null,
   "metadata": {},
   "outputs": [],
   "source": []
  }
 ],
 "metadata": {
  "kernelspec": {
   "display_name": "Python 3",
   "language": "python",
   "name": "python3"
  },
  "language_info": {
   "codemirror_mode": {
    "name": "ipython",
    "version": 3
   },
   "file_extension": ".py",
   "mimetype": "text/x-python",
   "name": "python",
   "nbconvert_exporter": "python",
   "pygments_lexer": "ipython3",
   "version": "3.11.5"
  }
 },
 "nbformat": 4,
 "nbformat_minor": 2
}
